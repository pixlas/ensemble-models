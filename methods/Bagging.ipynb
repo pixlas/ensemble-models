{
  "cells": [
    {
      "cell_type": "code",
      "execution_count": 144,
      "id": "bdc7c0e4",
      "metadata": {
        "id": "bdc7c0e4"
      },
      "outputs": [],
      "source": [
        "import random\n",
        "import numpy as np\n",
        "import pandas as pd\n",
        "from sklearn.tree import DecisionTreeClassifier\n",
        "from sklearn.model_selection import cross_val_score\n",
        "from sklearn.model_selection import KFold\n",
        "from sklearn.model_selection import train_test_split\n",
        "import matplotlib.pyplot as plt\n",
        "from sklearn.tree import plot_tree"
      ]
    },
    {
      "cell_type": "code",
      "source": [
        "import warnings\n",
        "warnings.filterwarnings(\"ignore\")"
      ],
      "metadata": {
        "id": "nLJdDKFANpRL"
      },
      "id": "nLJdDKFANpRL",
      "execution_count": 145,
      "outputs": []
    },
    {
      "cell_type": "markdown",
      "id": "b2e8941a",
      "metadata": {
        "id": "b2e8941a"
      },
      "source": [
        "# Fonctions utiles"
      ]
    },
    {
      "cell_type": "code",
      "execution_count": 146,
      "id": "6487a26d",
      "metadata": {
        "id": "6487a26d"
      },
      "outputs": [],
      "source": [
        "#predictions[i,j] = categorie prédites par le i-ème classifieur pour l'individu j\n",
        "def votes(predictions, categories, seuil=0.5):\n",
        "    nb_individus = np.shape(predictions)[1]\n",
        "    nb_classifieurs = np.shape(predictions)[0]\n",
        "    res_votes = []\n",
        "    \n",
        "    for j in range(nb_individus):\n",
        "        res_votes.append(vote(predictions[j], categories, nb_classifieurs, seuil))\n",
        "    \n",
        "    return res_votes\n",
        "\n",
        "#Vote pour un seul individu\n",
        "def vote(predictions, categories, nb_classifieurs, seuil = 0.5):\n",
        "    nb_votes = np.zeros(len(categories))\n",
        "    for i in range(nb_classifieurs):\n",
        "        for c in range(len(categories)):\n",
        "            if predictions[i] == categories[c]:\n",
        "                nb_votes[c] +=1\n",
        "\n",
        "    temp = []\n",
        "    for c in range(len(categories)):\n",
        "        if (nb_votes[c]/nb_classifieurs >= seuil):\n",
        "            temp.append(categories[c])\n",
        "    if temp == []:\n",
        "        return \"NA\"\n",
        "    else:\n",
        "        return temp\n",
        "\n",
        "def accuracy(y_true, y_chap):\n",
        "    temp = []\n",
        "    nb_individus = len(y_true)\n",
        "    for i in range(nb_individus):\n",
        "        temp.append(y_chap[i] == y_true[i])\n",
        "    try:\n",
        "        temp = sum(np.double(temp))/nb_individus\n",
        "    except ValueError:\n",
        "        pass\n",
        "    return temp"
      ]
    },
    {
      "cell_type": "markdown",
      "id": "d0e940a5",
      "metadata": {
        "id": "d0e940a5"
      },
      "source": [
        "# Chargement des données"
      ]
    },
    {
      "cell_type": "code",
      "execution_count": 147,
      "id": "d4e0965c",
      "metadata": {
        "colab": {
          "base_uri": "https://localhost:8080/",
          "height": 299
        },
        "id": "d4e0965c",
        "outputId": "432f514f-6a5d-427f-f45a-b59dc5210f5b"
      },
      "outputs": [
        {
          "output_type": "execute_result",
          "data": {
            "text/plain": [
              "      Aattr     Battr     Cattr     Dattr     Eattr     Fattr    A1attr  \\\n",
              "0  0.117596  1.241362  1.184036  0.815302 -0.158561  1.256483  1.193546   \n",
              "1 -1.205362 -1.249654 -0.077532  0.444886 -0.895959 -0.447579 -0.786760   \n",
              "2  0.779075  0.148811  0.042617 -0.243030  0.800057  0.164136  0.053370   \n",
              "3  1.146564  0.585831  0.342991  0.021553  0.947536  0.601074  0.353416   \n",
              "4 -0.764376 -1.162250 -0.137607  0.180303 -0.969698 -1.146681 -0.126658   \n",
              "\n",
              "     B2attr    C3attr    D4attr  ...   D22attr   E23attr   F24attr   A25attr  \\\n",
              "0  0.818486 -0.141965  0.879481  ...  0.807707 -0.069968  1.219160  1.250463   \n",
              "1 -0.554203 -0.364672  0.092157  ... -0.192752 -0.736996 -0.969292 -0.844805   \n",
              "2 -0.448612  0.154978 -0.345245  ... -0.877277  0.671174 -0.006373 -0.425752   \n",
              "3  0.026550  1.788164  1.010702  ...  0.281150  1.412317  1.044084  0.532085   \n",
              "4  0.184937 -0.735851 -1.132569  ... -0.192752 -0.885225 -1.231906 -0.784941   \n",
              "\n",
              "    B26attr   C27attr   D28attr   E29attr   F30attr  class  \n",
              "0  0.597678 -0.054291  1.233342  1.262255  0.603258    1.0  \n",
              "1 -0.400030 -0.725852 -0.344432 -0.594534 -0.183967    5.0  \n",
              "2 -0.662584  0.691889  0.356801 -0.175259 -0.236449    7.0  \n",
              "3  0.282612  1.438068  1.058033  0.842981  0.130923    3.0  \n",
              "4 -0.347519 -0.875088 -1.220973 -0.774223 -0.551339    5.0  \n",
              "\n",
              "[5 rows x 37 columns]"
            ],
            "text/html": [
              "\n",
              "  <div id=\"df-36adc0b0-f057-4a4e-93bb-b4a7f9b27b5d\">\n",
              "    <div class=\"colab-df-container\">\n",
              "      <div>\n",
              "<style scoped>\n",
              "    .dataframe tbody tr th:only-of-type {\n",
              "        vertical-align: middle;\n",
              "    }\n",
              "\n",
              "    .dataframe tbody tr th {\n",
              "        vertical-align: top;\n",
              "    }\n",
              "\n",
              "    .dataframe thead th {\n",
              "        text-align: right;\n",
              "    }\n",
              "</style>\n",
              "<table border=\"1\" class=\"dataframe\">\n",
              "  <thead>\n",
              "    <tr style=\"text-align: right;\">\n",
              "      <th></th>\n",
              "      <th>Aattr</th>\n",
              "      <th>Battr</th>\n",
              "      <th>Cattr</th>\n",
              "      <th>Dattr</th>\n",
              "      <th>Eattr</th>\n",
              "      <th>Fattr</th>\n",
              "      <th>A1attr</th>\n",
              "      <th>B2attr</th>\n",
              "      <th>C3attr</th>\n",
              "      <th>D4attr</th>\n",
              "      <th>...</th>\n",
              "      <th>D22attr</th>\n",
              "      <th>E23attr</th>\n",
              "      <th>F24attr</th>\n",
              "      <th>A25attr</th>\n",
              "      <th>B26attr</th>\n",
              "      <th>C27attr</th>\n",
              "      <th>D28attr</th>\n",
              "      <th>E29attr</th>\n",
              "      <th>F30attr</th>\n",
              "      <th>class</th>\n",
              "    </tr>\n",
              "  </thead>\n",
              "  <tbody>\n",
              "    <tr>\n",
              "      <th>0</th>\n",
              "      <td>0.117596</td>\n",
              "      <td>1.241362</td>\n",
              "      <td>1.184036</td>\n",
              "      <td>0.815302</td>\n",
              "      <td>-0.158561</td>\n",
              "      <td>1.256483</td>\n",
              "      <td>1.193546</td>\n",
              "      <td>0.818486</td>\n",
              "      <td>-0.141965</td>\n",
              "      <td>0.879481</td>\n",
              "      <td>...</td>\n",
              "      <td>0.807707</td>\n",
              "      <td>-0.069968</td>\n",
              "      <td>1.219160</td>\n",
              "      <td>1.250463</td>\n",
              "      <td>0.597678</td>\n",
              "      <td>-0.054291</td>\n",
              "      <td>1.233342</td>\n",
              "      <td>1.262255</td>\n",
              "      <td>0.603258</td>\n",
              "      <td>1.0</td>\n",
              "    </tr>\n",
              "    <tr>\n",
              "      <th>1</th>\n",
              "      <td>-1.205362</td>\n",
              "      <td>-1.249654</td>\n",
              "      <td>-0.077532</td>\n",
              "      <td>0.444886</td>\n",
              "      <td>-0.895959</td>\n",
              "      <td>-0.447579</td>\n",
              "      <td>-0.786760</td>\n",
              "      <td>-0.554203</td>\n",
              "      <td>-0.364672</td>\n",
              "      <td>0.092157</td>\n",
              "      <td>...</td>\n",
              "      <td>-0.192752</td>\n",
              "      <td>-0.736996</td>\n",
              "      <td>-0.969292</td>\n",
              "      <td>-0.844805</td>\n",
              "      <td>-0.400030</td>\n",
              "      <td>-0.725852</td>\n",
              "      <td>-0.344432</td>\n",
              "      <td>-0.594534</td>\n",
              "      <td>-0.183967</td>\n",
              "      <td>5.0</td>\n",
              "    </tr>\n",
              "    <tr>\n",
              "      <th>2</th>\n",
              "      <td>0.779075</td>\n",
              "      <td>0.148811</td>\n",
              "      <td>0.042617</td>\n",
              "      <td>-0.243030</td>\n",
              "      <td>0.800057</td>\n",
              "      <td>0.164136</td>\n",
              "      <td>0.053370</td>\n",
              "      <td>-0.448612</td>\n",
              "      <td>0.154978</td>\n",
              "      <td>-0.345245</td>\n",
              "      <td>...</td>\n",
              "      <td>-0.877277</td>\n",
              "      <td>0.671174</td>\n",
              "      <td>-0.006373</td>\n",
              "      <td>-0.425752</td>\n",
              "      <td>-0.662584</td>\n",
              "      <td>0.691889</td>\n",
              "      <td>0.356801</td>\n",
              "      <td>-0.175259</td>\n",
              "      <td>-0.236449</td>\n",
              "      <td>7.0</td>\n",
              "    </tr>\n",
              "    <tr>\n",
              "      <th>3</th>\n",
              "      <td>1.146564</td>\n",
              "      <td>0.585831</td>\n",
              "      <td>0.342991</td>\n",
              "      <td>0.021553</td>\n",
              "      <td>0.947536</td>\n",
              "      <td>0.601074</td>\n",
              "      <td>0.353416</td>\n",
              "      <td>0.026550</td>\n",
              "      <td>1.788164</td>\n",
              "      <td>1.010702</td>\n",
              "      <td>...</td>\n",
              "      <td>0.281150</td>\n",
              "      <td>1.412317</td>\n",
              "      <td>1.044084</td>\n",
              "      <td>0.532085</td>\n",
              "      <td>0.282612</td>\n",
              "      <td>1.438068</td>\n",
              "      <td>1.058033</td>\n",
              "      <td>0.842981</td>\n",
              "      <td>0.130923</td>\n",
              "      <td>3.0</td>\n",
              "    </tr>\n",
              "    <tr>\n",
              "      <th>4</th>\n",
              "      <td>-0.764376</td>\n",
              "      <td>-1.162250</td>\n",
              "      <td>-0.137607</td>\n",
              "      <td>0.180303</td>\n",
              "      <td>-0.969698</td>\n",
              "      <td>-1.146681</td>\n",
              "      <td>-0.126658</td>\n",
              "      <td>0.184937</td>\n",
              "      <td>-0.735851</td>\n",
              "      <td>-1.132569</td>\n",
              "      <td>...</td>\n",
              "      <td>-0.192752</td>\n",
              "      <td>-0.885225</td>\n",
              "      <td>-1.231906</td>\n",
              "      <td>-0.784941</td>\n",
              "      <td>-0.347519</td>\n",
              "      <td>-0.875088</td>\n",
              "      <td>-1.220973</td>\n",
              "      <td>-0.774223</td>\n",
              "      <td>-0.551339</td>\n",
              "      <td>5.0</td>\n",
              "    </tr>\n",
              "  </tbody>\n",
              "</table>\n",
              "<p>5 rows × 37 columns</p>\n",
              "</div>\n",
              "      <button class=\"colab-df-convert\" onclick=\"convertToInteractive('df-36adc0b0-f057-4a4e-93bb-b4a7f9b27b5d')\"\n",
              "              title=\"Convert this dataframe to an interactive table.\"\n",
              "              style=\"display:none;\">\n",
              "        \n",
              "  <svg xmlns=\"http://www.w3.org/2000/svg\" height=\"24px\"viewBox=\"0 0 24 24\"\n",
              "       width=\"24px\">\n",
              "    <path d=\"M0 0h24v24H0V0z\" fill=\"none\"/>\n",
              "    <path d=\"M18.56 5.44l.94 2.06.94-2.06 2.06-.94-2.06-.94-.94-2.06-.94 2.06-2.06.94zm-11 1L8.5 8.5l.94-2.06 2.06-.94-2.06-.94L8.5 2.5l-.94 2.06-2.06.94zm10 10l.94 2.06.94-2.06 2.06-.94-2.06-.94-.94-2.06-.94 2.06-2.06.94z\"/><path d=\"M17.41 7.96l-1.37-1.37c-.4-.4-.92-.59-1.43-.59-.52 0-1.04.2-1.43.59L10.3 9.45l-7.72 7.72c-.78.78-.78 2.05 0 2.83L4 21.41c.39.39.9.59 1.41.59.51 0 1.02-.2 1.41-.59l7.78-7.78 2.81-2.81c.8-.78.8-2.07 0-2.86zM5.41 20L4 18.59l7.72-7.72 1.47 1.35L5.41 20z\"/>\n",
              "  </svg>\n",
              "      </button>\n",
              "      \n",
              "  <style>\n",
              "    .colab-df-container {\n",
              "      display:flex;\n",
              "      flex-wrap:wrap;\n",
              "      gap: 12px;\n",
              "    }\n",
              "\n",
              "    .colab-df-convert {\n",
              "      background-color: #E8F0FE;\n",
              "      border: none;\n",
              "      border-radius: 50%;\n",
              "      cursor: pointer;\n",
              "      display: none;\n",
              "      fill: #1967D2;\n",
              "      height: 32px;\n",
              "      padding: 0 0 0 0;\n",
              "      width: 32px;\n",
              "    }\n",
              "\n",
              "    .colab-df-convert:hover {\n",
              "      background-color: #E2EBFA;\n",
              "      box-shadow: 0px 1px 2px rgba(60, 64, 67, 0.3), 0px 1px 3px 1px rgba(60, 64, 67, 0.15);\n",
              "      fill: #174EA6;\n",
              "    }\n",
              "\n",
              "    [theme=dark] .colab-df-convert {\n",
              "      background-color: #3B4455;\n",
              "      fill: #D2E3FC;\n",
              "    }\n",
              "\n",
              "    [theme=dark] .colab-df-convert:hover {\n",
              "      background-color: #434B5C;\n",
              "      box-shadow: 0px 1px 3px 1px rgba(0, 0, 0, 0.15);\n",
              "      filter: drop-shadow(0px 1px 2px rgba(0, 0, 0, 0.3));\n",
              "      fill: #FFFFFF;\n",
              "    }\n",
              "  </style>\n",
              "\n",
              "      <script>\n",
              "        const buttonEl =\n",
              "          document.querySelector('#df-36adc0b0-f057-4a4e-93bb-b4a7f9b27b5d button.colab-df-convert');\n",
              "        buttonEl.style.display =\n",
              "          google.colab.kernel.accessAllowed ? 'block' : 'none';\n",
              "\n",
              "        async function convertToInteractive(key) {\n",
              "          const element = document.querySelector('#df-36adc0b0-f057-4a4e-93bb-b4a7f9b27b5d');\n",
              "          const dataTable =\n",
              "            await google.colab.kernel.invokeFunction('convertToInteractive',\n",
              "                                                     [key], {});\n",
              "          if (!dataTable) return;\n",
              "\n",
              "          const docLinkHtml = 'Like what you see? Visit the ' +\n",
              "            '<a target=\"_blank\" href=https://colab.research.google.com/notebooks/data_table.ipynb>data table notebook</a>'\n",
              "            + ' to learn more about interactive tables.';\n",
              "          element.innerHTML = '';\n",
              "          dataTable['output_type'] = 'display_data';\n",
              "          await google.colab.output.renderOutput(dataTable, element);\n",
              "          const docLink = document.createElement('div');\n",
              "          docLink.innerHTML = docLinkHtml;\n",
              "          element.appendChild(docLink);\n",
              "        }\n",
              "      </script>\n",
              "    </div>\n",
              "  </div>\n",
              "  "
            ]
          },
          "metadata": {},
          "execution_count": 147
        }
      ],
      "source": [
        "satimage_data = pd.read_csv(\"dataset_186_satimage.csv\")\n",
        "satimage_categories = np.unique(satimage_data[\"class\"])\n",
        "satimage_data.head()"
      ]
    },
    {
      "cell_type": "code",
      "execution_count": 148,
      "id": "8f1aaa85",
      "metadata": {
        "colab": {
          "base_uri": "https://localhost:8080/"
        },
        "id": "8f1aaa85",
        "outputId": "2b58b284-d283-4186-9291-5dc6d3c5287f"
      },
      "outputs": [
        {
          "output_type": "execute_result",
          "data": {
            "text/plain": [
              "1.0    23.8\n",
              "7.0    23.5\n",
              "3.0    21.1\n",
              "5.0    11.0\n",
              "2.0    10.9\n",
              "4.0     9.7\n",
              "Name: class, dtype: float64"
            ]
          },
          "metadata": {},
          "execution_count": 148
        }
      ],
      "source": [
        "np.round(100*satimage_data[\"class\"].value_counts()/np.shape(satimage_data)[0], 1)"
      ]
    },
    {
      "cell_type": "code",
      "execution_count": 149,
      "id": "047e7763",
      "metadata": {
        "colab": {
          "base_uri": "https://localhost:8080/",
          "height": 299
        },
        "id": "047e7763",
        "outputId": "8b9dd5fd-85e0-4069-82ff-b637e638d087"
      },
      "outputs": [
        {
          "output_type": "execute_result",
          "data": {
            "text/plain": [
              "      V1     V2      V3      V4       V5       V6      V7       V8      V9  \\\n",
              "0  17.99  10.38  122.80  1001.0  0.11840  0.27760  0.3001  0.14710  0.2419   \n",
              "1  20.57  17.77  132.90  1326.0  0.08474  0.07864  0.0869  0.07017  0.1812   \n",
              "2  19.69  21.25  130.00  1203.0  0.10960  0.15990  0.1974  0.12790  0.2069   \n",
              "3  11.42  20.38   77.58   386.1  0.14250  0.28390  0.2414  0.10520  0.2597   \n",
              "4  20.29  14.34  135.10  1297.0  0.10030  0.13280  0.1980  0.10430  0.1809   \n",
              "\n",
              "       V10  ...    V22     V23     V24     V25     V26     V27     V28  \\\n",
              "0  0.07871  ...  17.33  184.60  2019.0  0.1622  0.6656  0.7119  0.2654   \n",
              "1  0.05667  ...  23.41  158.80  1956.0  0.1238  0.1866  0.2416  0.1860   \n",
              "2  0.05999  ...  25.53  152.50  1709.0  0.1444  0.4245  0.4504  0.2430   \n",
              "3  0.09744  ...  26.50   98.87   567.7  0.2098  0.8663  0.6869  0.2575   \n",
              "4  0.05883  ...  16.67  152.20  1575.0  0.1374  0.2050  0.4000  0.1625   \n",
              "\n",
              "      V29      V30  Class  \n",
              "0  0.4601  0.11890      2  \n",
              "1  0.2750  0.08902      2  \n",
              "2  0.3613  0.08758      2  \n",
              "3  0.6638  0.17300      2  \n",
              "4  0.2364  0.07678      2  \n",
              "\n",
              "[5 rows x 31 columns]"
            ],
            "text/html": [
              "\n",
              "  <div id=\"df-bcf77e89-9cec-4db2-9426-b0ac15482f76\">\n",
              "    <div class=\"colab-df-container\">\n",
              "      <div>\n",
              "<style scoped>\n",
              "    .dataframe tbody tr th:only-of-type {\n",
              "        vertical-align: middle;\n",
              "    }\n",
              "\n",
              "    .dataframe tbody tr th {\n",
              "        vertical-align: top;\n",
              "    }\n",
              "\n",
              "    .dataframe thead th {\n",
              "        text-align: right;\n",
              "    }\n",
              "</style>\n",
              "<table border=\"1\" class=\"dataframe\">\n",
              "  <thead>\n",
              "    <tr style=\"text-align: right;\">\n",
              "      <th></th>\n",
              "      <th>V1</th>\n",
              "      <th>V2</th>\n",
              "      <th>V3</th>\n",
              "      <th>V4</th>\n",
              "      <th>V5</th>\n",
              "      <th>V6</th>\n",
              "      <th>V7</th>\n",
              "      <th>V8</th>\n",
              "      <th>V9</th>\n",
              "      <th>V10</th>\n",
              "      <th>...</th>\n",
              "      <th>V22</th>\n",
              "      <th>V23</th>\n",
              "      <th>V24</th>\n",
              "      <th>V25</th>\n",
              "      <th>V26</th>\n",
              "      <th>V27</th>\n",
              "      <th>V28</th>\n",
              "      <th>V29</th>\n",
              "      <th>V30</th>\n",
              "      <th>Class</th>\n",
              "    </tr>\n",
              "  </thead>\n",
              "  <tbody>\n",
              "    <tr>\n",
              "      <th>0</th>\n",
              "      <td>17.99</td>\n",
              "      <td>10.38</td>\n",
              "      <td>122.80</td>\n",
              "      <td>1001.0</td>\n",
              "      <td>0.11840</td>\n",
              "      <td>0.27760</td>\n",
              "      <td>0.3001</td>\n",
              "      <td>0.14710</td>\n",
              "      <td>0.2419</td>\n",
              "      <td>0.07871</td>\n",
              "      <td>...</td>\n",
              "      <td>17.33</td>\n",
              "      <td>184.60</td>\n",
              "      <td>2019.0</td>\n",
              "      <td>0.1622</td>\n",
              "      <td>0.6656</td>\n",
              "      <td>0.7119</td>\n",
              "      <td>0.2654</td>\n",
              "      <td>0.4601</td>\n",
              "      <td>0.11890</td>\n",
              "      <td>2</td>\n",
              "    </tr>\n",
              "    <tr>\n",
              "      <th>1</th>\n",
              "      <td>20.57</td>\n",
              "      <td>17.77</td>\n",
              "      <td>132.90</td>\n",
              "      <td>1326.0</td>\n",
              "      <td>0.08474</td>\n",
              "      <td>0.07864</td>\n",
              "      <td>0.0869</td>\n",
              "      <td>0.07017</td>\n",
              "      <td>0.1812</td>\n",
              "      <td>0.05667</td>\n",
              "      <td>...</td>\n",
              "      <td>23.41</td>\n",
              "      <td>158.80</td>\n",
              "      <td>1956.0</td>\n",
              "      <td>0.1238</td>\n",
              "      <td>0.1866</td>\n",
              "      <td>0.2416</td>\n",
              "      <td>0.1860</td>\n",
              "      <td>0.2750</td>\n",
              "      <td>0.08902</td>\n",
              "      <td>2</td>\n",
              "    </tr>\n",
              "    <tr>\n",
              "      <th>2</th>\n",
              "      <td>19.69</td>\n",
              "      <td>21.25</td>\n",
              "      <td>130.00</td>\n",
              "      <td>1203.0</td>\n",
              "      <td>0.10960</td>\n",
              "      <td>0.15990</td>\n",
              "      <td>0.1974</td>\n",
              "      <td>0.12790</td>\n",
              "      <td>0.2069</td>\n",
              "      <td>0.05999</td>\n",
              "      <td>...</td>\n",
              "      <td>25.53</td>\n",
              "      <td>152.50</td>\n",
              "      <td>1709.0</td>\n",
              "      <td>0.1444</td>\n",
              "      <td>0.4245</td>\n",
              "      <td>0.4504</td>\n",
              "      <td>0.2430</td>\n",
              "      <td>0.3613</td>\n",
              "      <td>0.08758</td>\n",
              "      <td>2</td>\n",
              "    </tr>\n",
              "    <tr>\n",
              "      <th>3</th>\n",
              "      <td>11.42</td>\n",
              "      <td>20.38</td>\n",
              "      <td>77.58</td>\n",
              "      <td>386.1</td>\n",
              "      <td>0.14250</td>\n",
              "      <td>0.28390</td>\n",
              "      <td>0.2414</td>\n",
              "      <td>0.10520</td>\n",
              "      <td>0.2597</td>\n",
              "      <td>0.09744</td>\n",
              "      <td>...</td>\n",
              "      <td>26.50</td>\n",
              "      <td>98.87</td>\n",
              "      <td>567.7</td>\n",
              "      <td>0.2098</td>\n",
              "      <td>0.8663</td>\n",
              "      <td>0.6869</td>\n",
              "      <td>0.2575</td>\n",
              "      <td>0.6638</td>\n",
              "      <td>0.17300</td>\n",
              "      <td>2</td>\n",
              "    </tr>\n",
              "    <tr>\n",
              "      <th>4</th>\n",
              "      <td>20.29</td>\n",
              "      <td>14.34</td>\n",
              "      <td>135.10</td>\n",
              "      <td>1297.0</td>\n",
              "      <td>0.10030</td>\n",
              "      <td>0.13280</td>\n",
              "      <td>0.1980</td>\n",
              "      <td>0.10430</td>\n",
              "      <td>0.1809</td>\n",
              "      <td>0.05883</td>\n",
              "      <td>...</td>\n",
              "      <td>16.67</td>\n",
              "      <td>152.20</td>\n",
              "      <td>1575.0</td>\n",
              "      <td>0.1374</td>\n",
              "      <td>0.2050</td>\n",
              "      <td>0.4000</td>\n",
              "      <td>0.1625</td>\n",
              "      <td>0.2364</td>\n",
              "      <td>0.07678</td>\n",
              "      <td>2</td>\n",
              "    </tr>\n",
              "  </tbody>\n",
              "</table>\n",
              "<p>5 rows × 31 columns</p>\n",
              "</div>\n",
              "      <button class=\"colab-df-convert\" onclick=\"convertToInteractive('df-bcf77e89-9cec-4db2-9426-b0ac15482f76')\"\n",
              "              title=\"Convert this dataframe to an interactive table.\"\n",
              "              style=\"display:none;\">\n",
              "        \n",
              "  <svg xmlns=\"http://www.w3.org/2000/svg\" height=\"24px\"viewBox=\"0 0 24 24\"\n",
              "       width=\"24px\">\n",
              "    <path d=\"M0 0h24v24H0V0z\" fill=\"none\"/>\n",
              "    <path d=\"M18.56 5.44l.94 2.06.94-2.06 2.06-.94-2.06-.94-.94-2.06-.94 2.06-2.06.94zm-11 1L8.5 8.5l.94-2.06 2.06-.94-2.06-.94L8.5 2.5l-.94 2.06-2.06.94zm10 10l.94 2.06.94-2.06 2.06-.94-2.06-.94-.94-2.06-.94 2.06-2.06.94z\"/><path d=\"M17.41 7.96l-1.37-1.37c-.4-.4-.92-.59-1.43-.59-.52 0-1.04.2-1.43.59L10.3 9.45l-7.72 7.72c-.78.78-.78 2.05 0 2.83L4 21.41c.39.39.9.59 1.41.59.51 0 1.02-.2 1.41-.59l7.78-7.78 2.81-2.81c.8-.78.8-2.07 0-2.86zM5.41 20L4 18.59l7.72-7.72 1.47 1.35L5.41 20z\"/>\n",
              "  </svg>\n",
              "      </button>\n",
              "      \n",
              "  <style>\n",
              "    .colab-df-container {\n",
              "      display:flex;\n",
              "      flex-wrap:wrap;\n",
              "      gap: 12px;\n",
              "    }\n",
              "\n",
              "    .colab-df-convert {\n",
              "      background-color: #E8F0FE;\n",
              "      border: none;\n",
              "      border-radius: 50%;\n",
              "      cursor: pointer;\n",
              "      display: none;\n",
              "      fill: #1967D2;\n",
              "      height: 32px;\n",
              "      padding: 0 0 0 0;\n",
              "      width: 32px;\n",
              "    }\n",
              "\n",
              "    .colab-df-convert:hover {\n",
              "      background-color: #E2EBFA;\n",
              "      box-shadow: 0px 1px 2px rgba(60, 64, 67, 0.3), 0px 1px 3px 1px rgba(60, 64, 67, 0.15);\n",
              "      fill: #174EA6;\n",
              "    }\n",
              "\n",
              "    [theme=dark] .colab-df-convert {\n",
              "      background-color: #3B4455;\n",
              "      fill: #D2E3FC;\n",
              "    }\n",
              "\n",
              "    [theme=dark] .colab-df-convert:hover {\n",
              "      background-color: #434B5C;\n",
              "      box-shadow: 0px 1px 3px 1px rgba(0, 0, 0, 0.15);\n",
              "      filter: drop-shadow(0px 1px 2px rgba(0, 0, 0, 0.3));\n",
              "      fill: #FFFFFF;\n",
              "    }\n",
              "  </style>\n",
              "\n",
              "      <script>\n",
              "        const buttonEl =\n",
              "          document.querySelector('#df-bcf77e89-9cec-4db2-9426-b0ac15482f76 button.colab-df-convert');\n",
              "        buttonEl.style.display =\n",
              "          google.colab.kernel.accessAllowed ? 'block' : 'none';\n",
              "\n",
              "        async function convertToInteractive(key) {\n",
              "          const element = document.querySelector('#df-bcf77e89-9cec-4db2-9426-b0ac15482f76');\n",
              "          const dataTable =\n",
              "            await google.colab.kernel.invokeFunction('convertToInteractive',\n",
              "                                                     [key], {});\n",
              "          if (!dataTable) return;\n",
              "\n",
              "          const docLinkHtml = 'Like what you see? Visit the ' +\n",
              "            '<a target=\"_blank\" href=https://colab.research.google.com/notebooks/data_table.ipynb>data table notebook</a>'\n",
              "            + ' to learn more about interactive tables.';\n",
              "          element.innerHTML = '';\n",
              "          dataTable['output_type'] = 'display_data';\n",
              "          await google.colab.output.renderOutput(dataTable, element);\n",
              "          const docLink = document.createElement('div');\n",
              "          docLink.innerHTML = docLinkHtml;\n",
              "          element.appendChild(docLink);\n",
              "        }\n",
              "      </script>\n",
              "    </div>\n",
              "  </div>\n",
              "  "
            ]
          },
          "metadata": {},
          "execution_count": 149
        }
      ],
      "source": [
        "cancer_data = pd.read_csv(\"phpAmSP4g.csv\")\n",
        "cancer_categories = np.unique(cancer_data[\"Class\"])\n",
        "#Y_cancer = cancer_data[\"Class\"]\n",
        "#cancer_data = cancer_data.drop(\"Class\", 1)\n",
        "cancer_data.head()"
      ]
    },
    {
      "cell_type": "code",
      "execution_count": 150,
      "id": "197b954c",
      "metadata": {
        "colab": {
          "base_uri": "https://localhost:8080/"
        },
        "id": "197b954c",
        "outputId": "f63141f5-806d-42e8-d5d5-13738484a2f1"
      },
      "outputs": [
        {
          "output_type": "execute_result",
          "data": {
            "text/plain": [
              "1    62.7\n",
              "2    37.3\n",
              "Name: Class, dtype: float64"
            ]
          },
          "metadata": {},
          "execution_count": 150
        }
      ],
      "source": [
        "np.round(100*cancer_data[\"Class\"].value_counts()/np.shape(cancer_data)[0], 1)"
      ]
    },
    {
      "cell_type": "markdown",
      "id": "52d28538",
      "metadata": {
        "id": "52d28538"
      },
      "source": [
        "Les catégories sont deséquilibrées pour les deux jeux de données."
      ]
    },
    {
      "cell_type": "markdown",
      "id": "2341bfef",
      "metadata": {
        "id": "2341bfef"
      },
      "source": [
        "# Bagging"
      ]
    },
    {
      "cell_type": "markdown",
      "id": "f2822186",
      "metadata": {
        "id": "f2822186"
      },
      "source": [
        "## Fonctions"
      ]
    },
    {
      "cell_type": "code",
      "execution_count": 151,
      "id": "044e272c",
      "metadata": {
        "id": "044e272c"
      },
      "outputs": [],
      "source": [
        "def bootstrap(x):\n",
        "    return np.sort(np.random.choice(x, len(x)))\n",
        "                   \n",
        "def out_of_bag(bootstrap_sample, x):\n",
        "    return x[np.where(not bootstrap_sample in x)]\n",
        "                   \n",
        "class bagging:\n",
        "\n",
        "    def __init__(self, nb_bootstrap_samples=100, model = \"decision_tree\"):\n",
        "        self.nb_bootstrap_samples = nb_bootstrap_samples\n",
        "        self.model = model\n",
        "        self.pred = []\n",
        "        self.trees = []\n",
        "        self.bootstrap_samples = []\n",
        "        \n",
        "    def fit(self, train_data, y, max_depth=1):\n",
        "        nrow = np.shape(train_data)[0]\n",
        "        predictions = []\n",
        "        for i in range(self.nb_bootstrap_samples):\n",
        "            if self.model == \"decision_tree\" :\n",
        "                bootstrap_model = DecisionTreeClassifier(max_depth=max_depth)\n",
        "            ind_samp = bootstrap(range(nrow))\n",
        "            self.bootstrap_samples.append(ind_samp)\n",
        "            samp_data = train_data.iloc[ind_samp]\n",
        "            self.trees.append(bootstrap_model.fit(X = samp_data, y=y[ind_samp]))\n",
        "\n",
        "    def predict(self, new_data, categories, seuil=0.5):\n",
        "        self.pred = []\n",
        "        for t in self.trees:\n",
        "            self.pred.append(t.predict(new_data))\n",
        "        self.pred = pd.DataFrame(self.pred)\n",
        "        return votes(self.pred, categories= categories, seuil=seuil)\n",
        "    \n",
        "    def oob_error(self, categories, y, seuil = 0.51):\n",
        "        nb_individus = np.shape(self.pred)[1]\n",
        "        nb_classifieurs = np.shape(self.pred)[0]\n",
        "        pred = []\n",
        "        \n",
        "        for i in range(nb_individus):\n",
        "            count = 0\n",
        "            pred_i = []\n",
        "            for j in range(nb_classifieurs):\n",
        "                if not i in self.bootstrap_samples[j]:\n",
        "                    count += 1\n",
        "                    pred_i.append(self.pred[i][j])\n",
        "            if count > 0:\n",
        "                pred.append(vote(pred_i, categories, count, seuil))\n",
        "            else:\n",
        "                pred.append(y[i])\n",
        "        return 1-accuracy(pred, y)"
      ]
    },
    {
      "cell_type": "markdown",
      "id": "b6787624",
      "metadata": {
        "id": "b6787624"
      },
      "source": [
        "## Une instance de bagging"
      ]
    },
    {
      "cell_type": "code",
      "execution_count": 152,
      "id": "b385a9ad",
      "metadata": {
        "id": "b385a9ad"
      },
      "outputs": [],
      "source": [
        "X = satimage_data.drop(\"class\", 1)\n",
        "y = np.array(satimage_data[\"class\"])\n",
        "X_train, X_test, y_train, y_test = train_test_split(X, y, test_size=0.3, random_state=42)\n",
        "bag_model = bagging(nb_bootstrap_samples=100, model = \"decision_tree\")\n",
        "bag_model.fit(train_data = X_train, y = y_train, max_depth=3)\n",
        "pred = bag_model.predict(new_data= X_test, categories = satimage_categories, seuil = 0.51)"
      ]
    },
    {
      "cell_type": "code",
      "execution_count": 153,
      "id": "9f39c51f",
      "metadata": {
        "scrolled": true,
        "colab": {
          "base_uri": "https://localhost:8080/"
        },
        "id": "9f39c51f",
        "outputId": "1cf0df5a-5ba4-4718-f26d-bae5cd3d4f4a"
      },
      "outputs": [
        {
          "output_type": "stream",
          "name": "stdout",
          "text": [
            "Accuracy on X_test = 0.767\n",
            "Error on X_test = 0.233\n"
          ]
        }
      ],
      "source": [
        "y_chap = np.array(pred)\n",
        "acc = accuracy(y_test, y_chap)\n",
        "print(\"Accuracy on X_test = %2.3f\" % acc)\n",
        "print(\"Error on X_test = %2.3f\" % (1-acc))"
      ]
    },
    {
      "cell_type": "code",
      "execution_count": 154,
      "id": "fa247ae3",
      "metadata": {
        "colab": {
          "base_uri": "https://localhost:8080/"
        },
        "id": "fa247ae3",
        "outputId": "3f1d3da6-5172-4cd9-9a09-219a5fa704b0"
      },
      "outputs": [
        {
          "output_type": "stream",
          "name": "stdout",
          "text": [
            "Out Of Bag Error on X = 0.229\n"
          ]
        }
      ],
      "source": [
        "pred = bag_model.predict(new_data= X, categories = satimage_categories, seuil = 0.51)\n",
        "err = bag_model.oob_error(satimage_categories, y, seuil = 0.51)\n",
        "print(\"Out Of Bag Error on X = %2.3f\" % err)"
      ]
    },
    {
      "cell_type": "markdown",
      "id": "8ca24016",
      "metadata": {
        "id": "8ca24016"
      },
      "source": [
        "L'OOB error est du même ordre de grandeur que l'erreur classique sur le jeu de données de test (23,3% contre 22,9%) ce qui confirme que l'OOB error est une bonne estimation de l'erreur de généralisation du modèle."
      ]
    },
    {
      "cell_type": "markdown",
      "id": "0ffd7d09",
      "metadata": {
        "id": "0ffd7d09"
      },
      "source": [
        "## Recherche du meilleur nombre d'arbres"
      ]
    },
    {
      "cell_type": "markdown",
      "source": [
        "On souhaite choisir un nombre d'arbre qui nous donne la meilleure accuracy possible. \n",
        "\n",
        "Pour cela, nous allons tester un nombre d'arbres compris entre 2 et 18. Pour chacun de ces nombre, nous construisons 5 instances et nous estimons leurs performances. Nous réduisons ainsi les fluctuations d'échantillonage en calculant l'accuracy moyenne et nous pouvons estimer un écart-type de l'accuracy."
      ],
      "metadata": {
        "id": "JnajiabmTCsO"
      },
      "id": "JnajiabmTCsO"
    },
    {
      "cell_type": "code",
      "execution_count": 139,
      "id": "a44bee95",
      "metadata": {
        "scrolled": true,
        "id": "a44bee95"
      },
      "outputs": [],
      "source": [
        "nb_trees = range(2,20,2)\n",
        "acc = []\n",
        "kf = KFold(n_splits=5)\n",
        "for n in nb_trees:\n",
        "    acc_temp=[]\n",
        "    for train_index, test_index in kf.split(satimage_data):\n",
        "        bag_model = bagging(nb_bootstrap_samples=n, model = \"decision_tree\")\n",
        "        train_temp = X.loc[train_index,]\n",
        "        test_temp = X.loc[test_index,]\n",
        "        y_train_temp = y[train_index]\n",
        "        y_test_temp = y[test_index]\n",
        "        \n",
        "        bag_model.fit(train_data = train_temp, y = y_train_temp, max_depth=3)\n",
        "        #Seuil = 0.51 pour être sur d'avoir une seule prediction en sortie\n",
        "        pred = bag_model.predict(new_data= test_temp, categories = satimage_categories, seuil = 0.51)\n",
        "        acc_temp.append(accuracy(pred, y_test_temp))\n",
        "    acc.append(acc_temp)"
      ]
    },
    {
      "cell_type": "code",
      "execution_count": 140,
      "id": "bac2beef",
      "metadata": {
        "colab": {
          "base_uri": "https://localhost:8080/",
          "height": 521
        },
        "id": "bac2beef",
        "outputId": "d88acd70-6d5a-408e-baa7-7388c8ce8bc8"
      },
      "outputs": [
        {
          "output_type": "stream",
          "name": "stdout",
          "text": [
            "Nb_trees =   2 Accuracy moyenne = 0.740\n",
            "Nb_trees =   4 Accuracy moyenne = 0.767\n",
            "Nb_trees =   6 Accuracy moyenne = 0.763\n",
            "Nb_trees =   8 Accuracy moyenne = 0.764\n",
            "Nb_trees =  10 Accuracy moyenne = 0.766\n",
            "Nb_trees =  12 Accuracy moyenne = 0.767\n",
            "Nb_trees =  14 Accuracy moyenne = 0.769\n",
            "Nb_trees =  16 Accuracy moyenne = 0.768\n",
            "Nb_trees =  18 Accuracy moyenne = 0.772\n",
            "\n",
            "\n",
            "Meilleur Nb_trees =  18 Accuracy moyenne = 0.772\n"
          ]
        },
        {
          "output_type": "execute_result",
          "data": {
            "text/plain": [
              "<matplotlib.collections.PolyCollection at 0x7f0178d48850>"
            ]
          },
          "metadata": {},
          "execution_count": 140
        },
        {
          "output_type": "display_data",
          "data": {
            "text/plain": [
              "<Figure size 432x288 with 1 Axes>"
            ],
            "image/png": "[encoded data removed]"
          },
          "metadata": {
            "needs_background": "light"
          }
        }
      ],
      "source": [
        "max_i = 0\n",
        "max_acc = 0\n",
        "mean_acc = []\n",
        "std_acc = []\n",
        "for i in range(9):\n",
        "    new_acc = np.mean(acc[i])\n",
        "    mean_acc.append(new_acc)\n",
        "    new_std = np.std(acc[i])\n",
        "    std_acc.append(new_std)\n",
        "    print(\"Nb_trees = %3.0f Accuracy moyenne = %0.3f\"%(i*2+2, new_acc))\n",
        "    if new_acc > max_acc:\n",
        "        max_i = i*2+2\n",
        "        max_acc = new_acc\n",
        "print(\"\\n\\nMeilleur Nb_trees = %3.0f Accuracy moyenne = %0.3f\"%(max_i, max_acc))\n",
        "\n",
        "mean_acc = np.double(mean_acc)\n",
        "std_acc = np.double(std_acc)\n",
        "plt.title(\"Accuracy sur le valid set\")\n",
        "plt.xlabel(\"k = nombre d'arbres\")\n",
        "plt.ylabel(\"Accuracy\")\n",
        "plt.ylim(0.0, 1.0)\n",
        "lw = 2\n",
        "param_range = range(2,20, 2)\n",
        "plt.ylim(0.7, 0.8)\n",
        "plt.plot(\n",
        "    param_range, mean_acc, label=\"Training score\", color=\"darkorange\", lw=lw\n",
        ")\n",
        "plt.fill_between(\n",
        "    param_range,\n",
        "    mean_acc - std_acc,\n",
        "    mean_acc + std_acc,\n",
        "    alpha=0.2,\n",
        "    color=\"darkorange\",\n",
        "    lw=lw,\n",
        ")"
      ]
    },
    {
      "cell_type": "markdown",
      "source": [
        "Le meilleur nombre d'arbre en moyenne est 18. Cependant, les accuracy moyennes ne sont pas significativement différentes pour un nombre d'arbres compris entre 4 et 18. Il peut être plus prudent de choisir un nombre d'arbre avec un intervale de confiance petit comme c'est le cas pour 16 arbres par exemple."
      ],
      "metadata": {
        "id": "lj7YyDQzRnmu"
      },
      "id": "lj7YyDQzRnmu"
    },
    {
      "cell_type": "markdown",
      "id": "7543c1c2",
      "metadata": {
        "id": "7543c1c2"
      },
      "source": [
        "# Comparaison avec kNN"
      ]
    },
    {
      "cell_type": "markdown",
      "source": [
        "Nous souhaitons comparer les performances prédictives de l'instance de notre modèle créé précédemment. Elle possède une accuracy de 0.774 sur les données de test."
      ],
      "metadata": {
        "id": "ZNrXb-iiUAyH"
      },
      "id": "ZNrXb-iiUAyH"
    },
    {
      "cell_type": "code",
      "execution_count": 141,
      "id": "1061cdbf",
      "metadata": {
        "id": "1061cdbf"
      },
      "outputs": [],
      "source": [
        "from sklearn.neighbors import KNeighborsClassifier"
      ]
    },
    {
      "cell_type": "code",
      "execution_count": 142,
      "id": "b7549165",
      "metadata": {
        "id": "b7549165"
      },
      "outputs": [],
      "source": [
        "n_neighbors = [1, 2, 3, 4, 5, 7, 10, 20, 30, 40, 50]\n",
        "acc_knn = []\n",
        "for n in n_neighbors:\n",
        "    neigh = KNeighborsClassifier(n_neighbors=n)\n",
        "    neigh.fit(X = X_train, y = y_train)\n",
        "    pred = neigh.predict(X_test)\n",
        "    acc_knn.append(accuracy(pred, y_test))"
      ]
    },
    {
      "cell_type": "code",
      "execution_count": 143,
      "id": "61a87bfc",
      "metadata": {
        "colab": {
          "base_uri": "https://localhost:8080/",
          "height": 312
        },
        "id": "61a87bfc",
        "outputId": "22ca11f4-fb3d-447f-e512-5aec8e0033a2"
      },
      "outputs": [
        {
          "output_type": "execute_result",
          "data": {
            "text/plain": [
              "Text(0, 0.5, 'Accuracy')"
            ]
          },
          "metadata": {},
          "execution_count": 143
        },
        {
          "output_type": "display_data",
          "data": {
            "text/plain": [
              "<Figure size 432x288 with 1 Axes>"
            ],
            "image/png": "[encoded data removed]"
          },
          "metadata": {
            "needs_background": "light"
          }
        }
      ],
      "source": [
        "fig, ax = plt.subplots()  \n",
        "ax.plot(n_neighbors, acc_knn)\n",
        "plt.title(\"Accuracy en fonction de k\")\n",
        "plt.xlabel(\"k = nombre de voisins\")\n",
        "plt.ylabel(\"Accuracy\")"
      ]
    },
    {
      "cell_type": "markdown",
      "id": "19d6ef01",
      "metadata": {
        "id": "19d6ef01"
      },
      "source": [
        "Les résultats de knn sont bien meilleurs que ceux de decision tree."
      ]
    }
  ],
  "metadata": {
    "kernelspec": {
      "display_name": "Python 3",
      "language": "python",
      "name": "python3"
    },
    "language_info": {
      "codemirror_mode": {
        "name": "ipython",
        "version": 3
      },
      "file_extension": ".py",
      "mimetype": "text/x-python",
      "name": "python",
      "nbconvert_exporter": "python",
      "pygments_lexer": "ipython3",
      "version": "3.8.8"
    },
    "colab": {
      "provenance": []
    }
  },
  "nbformat": 4,
  "nbformat_minor": 5
}