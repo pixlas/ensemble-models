{
 "cells": [
  {
   "cell_type": "code",
   "execution_count": 1,
   "id": "bdc7c0e4",
   "metadata": {},
   "outputs": [],
   "source": [
    "import random\n",
    "import numpy as np\n",
    "import pandas as pd\n",
    "from sklearn.tree import DecisionTreeClassifier\n",
    "from sklearn.model_selection import cross_val_score\n",
    "from sklearn.model_selection import KFold\n",
    "from sklearn.model_selection import train_test_split\n",
    "from sklearn.metrics import accuracy_score\n",
    "import matplotlib.pyplot as plt\n",
    "from sklearn.tree import plot_tree\n",
    "from sklearn.model_selection import StratifiedKFold"
   ]
  },
  {
   "cell_type": "markdown",
   "id": "b2e8941a",
   "metadata": {},
   "source": [
    "# Fonctions utiles"
   ]
  },
  {
   "cell_type": "code",
   "execution_count": 2,
   "id": "6487a26d",
   "metadata": {},
   "outputs": [],
   "source": [
    "#predictions[i,j] = categorie prédites par le i-ème classifieur pour l'individu j\n",
    "def votes(predictions, categories, seuil=0.5):\n",
    "    nb_individus = np.shape(predictions)[1]\n",
    "    nb_classifieurs = np.shape(predictions)[0]\n",
    "    res_votes = []\n",
    "    \n",
    "    for j in range(nb_individus):\n",
    "        res_votes.append(vote(predictions[j], categories, nb_classifieurs, seuil))\n",
    "    \n",
    "    return res_votes\n",
    "\n",
    "#Vote pour un seul individu\n",
    "def vote(predictions, categories, nb_classifieurs, seuil = 0.5):\n",
    "    nb_votes = np.zeros(len(categories))\n",
    "    for i in range(nb_classifieurs):\n",
    "        for c in range(len(categories)):\n",
    "            if predictions[i] == categories[c]:\n",
    "                nb_votes[c] +=1\n",
    "\n",
    "    temp = []\n",
    "    for c in range(len(categories)):\n",
    "        if (nb_votes[c]/nb_classifieurs >= seuil):\n",
    "            temp.append(categories[c])\n",
    "    if temp == []:\n",
    "        return [-1]\n",
    "    else:\n",
    "        return temp"
   ]
  },
  {
   "cell_type": "markdown",
   "id": "d0e940a5",
   "metadata": {},
   "source": [
    "# Chargement des données"
   ]
  },
  {
   "cell_type": "code",
   "execution_count": 3,
   "id": "d4e0965c",
   "metadata": {},
   "outputs": [
    {
     "data": {
      "text/html": [
       "<div>\n",
       "<style scoped>\n",
       "    .dataframe tbody tr th:only-of-type {\n",
       "        vertical-align: middle;\n",
       "    }\n",
       "\n",
       "    .dataframe tbody tr th {\n",
       "        vertical-align: top;\n",
       "    }\n",
       "\n",
       "    .dataframe thead th {\n",
       "        text-align: right;\n",
       "    }\n",
       "</style>\n",
       "<table border=\"1\" class=\"dataframe\">\n",
       "  <thead>\n",
       "    <tr style=\"text-align: right;\">\n",
       "      <th></th>\n",
       "      <th>Aattr</th>\n",
       "      <th>Battr</th>\n",
       "      <th>Cattr</th>\n",
       "      <th>Dattr</th>\n",
       "      <th>Eattr</th>\n",
       "      <th>Fattr</th>\n",
       "      <th>A1attr</th>\n",
       "      <th>B2attr</th>\n",
       "      <th>C3attr</th>\n",
       "      <th>D4attr</th>\n",
       "      <th>...</th>\n",
       "      <th>D22attr</th>\n",
       "      <th>E23attr</th>\n",
       "      <th>F24attr</th>\n",
       "      <th>A25attr</th>\n",
       "      <th>B26attr</th>\n",
       "      <th>C27attr</th>\n",
       "      <th>D28attr</th>\n",
       "      <th>E29attr</th>\n",
       "      <th>F30attr</th>\n",
       "      <th>class</th>\n",
       "    </tr>\n",
       "  </thead>\n",
       "  <tbody>\n",
       "    <tr>\n",
       "      <th>0</th>\n",
       "      <td>0.117596</td>\n",
       "      <td>1.241362</td>\n",
       "      <td>1.184036</td>\n",
       "      <td>0.815302</td>\n",
       "      <td>-0.158561</td>\n",
       "      <td>1.256483</td>\n",
       "      <td>1.193546</td>\n",
       "      <td>0.818486</td>\n",
       "      <td>-0.141965</td>\n",
       "      <td>0.879481</td>\n",
       "      <td>...</td>\n",
       "      <td>0.807707</td>\n",
       "      <td>-0.069968</td>\n",
       "      <td>1.219160</td>\n",
       "      <td>1.250463</td>\n",
       "      <td>0.597678</td>\n",
       "      <td>-0.054291</td>\n",
       "      <td>1.233342</td>\n",
       "      <td>1.262255</td>\n",
       "      <td>0.603258</td>\n",
       "      <td>1.0</td>\n",
       "    </tr>\n",
       "    <tr>\n",
       "      <th>1</th>\n",
       "      <td>-1.205362</td>\n",
       "      <td>-1.249654</td>\n",
       "      <td>-0.077532</td>\n",
       "      <td>0.444886</td>\n",
       "      <td>-0.895959</td>\n",
       "      <td>-0.447579</td>\n",
       "      <td>-0.786760</td>\n",
       "      <td>-0.554203</td>\n",
       "      <td>-0.364672</td>\n",
       "      <td>0.092157</td>\n",
       "      <td>...</td>\n",
       "      <td>-0.192752</td>\n",
       "      <td>-0.736996</td>\n",
       "      <td>-0.969292</td>\n",
       "      <td>-0.844805</td>\n",
       "      <td>-0.400030</td>\n",
       "      <td>-0.725852</td>\n",
       "      <td>-0.344432</td>\n",
       "      <td>-0.594534</td>\n",
       "      <td>-0.183967</td>\n",
       "      <td>5.0</td>\n",
       "    </tr>\n",
       "    <tr>\n",
       "      <th>2</th>\n",
       "      <td>0.779075</td>\n",
       "      <td>0.148811</td>\n",
       "      <td>0.042617</td>\n",
       "      <td>-0.243030</td>\n",
       "      <td>0.800057</td>\n",
       "      <td>0.164136</td>\n",
       "      <td>0.053370</td>\n",
       "      <td>-0.448612</td>\n",
       "      <td>0.154978</td>\n",
       "      <td>-0.345245</td>\n",
       "      <td>...</td>\n",
       "      <td>-0.877277</td>\n",
       "      <td>0.671174</td>\n",
       "      <td>-0.006373</td>\n",
       "      <td>-0.425752</td>\n",
       "      <td>-0.662584</td>\n",
       "      <td>0.691889</td>\n",
       "      <td>0.356801</td>\n",
       "      <td>-0.175259</td>\n",
       "      <td>-0.236449</td>\n",
       "      <td>7.0</td>\n",
       "    </tr>\n",
       "    <tr>\n",
       "      <th>3</th>\n",
       "      <td>1.146564</td>\n",
       "      <td>0.585831</td>\n",
       "      <td>0.342991</td>\n",
       "      <td>0.021553</td>\n",
       "      <td>0.947536</td>\n",
       "      <td>0.601074</td>\n",
       "      <td>0.353416</td>\n",
       "      <td>0.026550</td>\n",
       "      <td>1.788164</td>\n",
       "      <td>1.010702</td>\n",
       "      <td>...</td>\n",
       "      <td>0.281150</td>\n",
       "      <td>1.412317</td>\n",
       "      <td>1.044084</td>\n",
       "      <td>0.532085</td>\n",
       "      <td>0.282612</td>\n",
       "      <td>1.438068</td>\n",
       "      <td>1.058033</td>\n",
       "      <td>0.842981</td>\n",
       "      <td>0.130923</td>\n",
       "      <td>3.0</td>\n",
       "    </tr>\n",
       "    <tr>\n",
       "      <th>4</th>\n",
       "      <td>-0.764376</td>\n",
       "      <td>-1.162250</td>\n",
       "      <td>-0.137607</td>\n",
       "      <td>0.180303</td>\n",
       "      <td>-0.969698</td>\n",
       "      <td>-1.146681</td>\n",
       "      <td>-0.126658</td>\n",
       "      <td>0.184937</td>\n",
       "      <td>-0.735851</td>\n",
       "      <td>-1.132569</td>\n",
       "      <td>...</td>\n",
       "      <td>-0.192752</td>\n",
       "      <td>-0.885225</td>\n",
       "      <td>-1.231906</td>\n",
       "      <td>-0.784941</td>\n",
       "      <td>-0.347519</td>\n",
       "      <td>-0.875088</td>\n",
       "      <td>-1.220973</td>\n",
       "      <td>-0.774223</td>\n",
       "      <td>-0.551339</td>\n",
       "      <td>5.0</td>\n",
       "    </tr>\n",
       "  </tbody>\n",
       "</table>\n",
       "<p>5 rows × 37 columns</p>\n",
       "</div>"
      ],
      "text/plain": [
       "      Aattr     Battr     Cattr     Dattr     Eattr     Fattr    A1attr  \\\n",
       "0  0.117596  1.241362  1.184036  0.815302 -0.158561  1.256483  1.193546   \n",
       "1 -1.205362 -1.249654 -0.077532  0.444886 -0.895959 -0.447579 -0.786760   \n",
       "2  0.779075  0.148811  0.042617 -0.243030  0.800057  0.164136  0.053370   \n",
       "3  1.146564  0.585831  0.342991  0.021553  0.947536  0.601074  0.353416   \n",
       "4 -0.764376 -1.162250 -0.137607  0.180303 -0.969698 -1.146681 -0.126658   \n",
       "\n",
       "     B2attr    C3attr    D4attr  ...   D22attr   E23attr   F24attr   A25attr  \\\n",
       "0  0.818486 -0.141965  0.879481  ...  0.807707 -0.069968  1.219160  1.250463   \n",
       "1 -0.554203 -0.364672  0.092157  ... -0.192752 -0.736996 -0.969292 -0.844805   \n",
       "2 -0.448612  0.154978 -0.345245  ... -0.877277  0.671174 -0.006373 -0.425752   \n",
       "3  0.026550  1.788164  1.010702  ...  0.281150  1.412317  1.044084  0.532085   \n",
       "4  0.184937 -0.735851 -1.132569  ... -0.192752 -0.885225 -1.231906 -0.784941   \n",
       "\n",
       "    B26attr   C27attr   D28attr   E29attr   F30attr  class  \n",
       "0  0.597678 -0.054291  1.233342  1.262255  0.603258    1.0  \n",
       "1 -0.400030 -0.725852 -0.344432 -0.594534 -0.183967    5.0  \n",
       "2 -0.662584  0.691889  0.356801 -0.175259 -0.236449    7.0  \n",
       "3  0.282612  1.438068  1.058033  0.842981  0.130923    3.0  \n",
       "4 -0.347519 -0.875088 -1.220973 -0.774223 -0.551339    5.0  \n",
       "\n",
       "[5 rows x 37 columns]"
      ]
     },
     "execution_count": 3,
     "metadata": {},
     "output_type": "execute_result"
    }
   ],
   "source": [
    "satimage_data = pd.read_csv(\"dataset_186_satimage.csv\")\n",
    "satimage_categories = np.unique(satimage_data[\"class\"])\n",
    "y = satimage_data[\"class\"]\n",
    "X = satimage_data.drop(labels=[\"class\"], axis=1)\n",
    "satimage_data.head()"
   ]
  },
  {
   "cell_type": "code",
   "execution_count": 4,
   "id": "8f1aaa85",
   "metadata": {},
   "outputs": [
    {
     "data": {
      "text/plain": [
       "1.0    23.8\n",
       "7.0    23.5\n",
       "3.0    21.1\n",
       "5.0    11.0\n",
       "2.0    10.9\n",
       "4.0     9.7\n",
       "Name: class, dtype: float64"
      ]
     },
     "execution_count": 4,
     "metadata": {},
     "output_type": "execute_result"
    }
   ],
   "source": [
    "np.round(100*satimage_data[\"class\"].value_counts()/np.shape(satimage_data)[0], 1)"
   ]
  },
  {
   "cell_type": "code",
   "execution_count": 5,
   "id": "047e7763",
   "metadata": {},
   "outputs": [
    {
     "data": {
      "text/html": [
       "<div>\n",
       "<style scoped>\n",
       "    .dataframe tbody tr th:only-of-type {\n",
       "        vertical-align: middle;\n",
       "    }\n",
       "\n",
       "    .dataframe tbody tr th {\n",
       "        vertical-align: top;\n",
       "    }\n",
       "\n",
       "    .dataframe thead th {\n",
       "        text-align: right;\n",
       "    }\n",
       "</style>\n",
       "<table border=\"1\" class=\"dataframe\">\n",
       "  <thead>\n",
       "    <tr style=\"text-align: right;\">\n",
       "      <th></th>\n",
       "      <th>V1</th>\n",
       "      <th>V2</th>\n",
       "      <th>V3</th>\n",
       "      <th>V4</th>\n",
       "      <th>V5</th>\n",
       "      <th>V6</th>\n",
       "      <th>V7</th>\n",
       "      <th>V8</th>\n",
       "      <th>V9</th>\n",
       "      <th>V10</th>\n",
       "      <th>...</th>\n",
       "      <th>V22</th>\n",
       "      <th>V23</th>\n",
       "      <th>V24</th>\n",
       "      <th>V25</th>\n",
       "      <th>V26</th>\n",
       "      <th>V27</th>\n",
       "      <th>V28</th>\n",
       "      <th>V29</th>\n",
       "      <th>V30</th>\n",
       "      <th>Class</th>\n",
       "    </tr>\n",
       "  </thead>\n",
       "  <tbody>\n",
       "    <tr>\n",
       "      <th>0</th>\n",
       "      <td>17.99</td>\n",
       "      <td>10.38</td>\n",
       "      <td>122.80</td>\n",
       "      <td>1001.0</td>\n",
       "      <td>0.11840</td>\n",
       "      <td>0.27760</td>\n",
       "      <td>0.3001</td>\n",
       "      <td>0.14710</td>\n",
       "      <td>0.2419</td>\n",
       "      <td>0.07871</td>\n",
       "      <td>...</td>\n",
       "      <td>17.33</td>\n",
       "      <td>184.60</td>\n",
       "      <td>2019.0</td>\n",
       "      <td>0.1622</td>\n",
       "      <td>0.6656</td>\n",
       "      <td>0.7119</td>\n",
       "      <td>0.2654</td>\n",
       "      <td>0.4601</td>\n",
       "      <td>0.11890</td>\n",
       "      <td>2</td>\n",
       "    </tr>\n",
       "    <tr>\n",
       "      <th>1</th>\n",
       "      <td>20.57</td>\n",
       "      <td>17.77</td>\n",
       "      <td>132.90</td>\n",
       "      <td>1326.0</td>\n",
       "      <td>0.08474</td>\n",
       "      <td>0.07864</td>\n",
       "      <td>0.0869</td>\n",
       "      <td>0.07017</td>\n",
       "      <td>0.1812</td>\n",
       "      <td>0.05667</td>\n",
       "      <td>...</td>\n",
       "      <td>23.41</td>\n",
       "      <td>158.80</td>\n",
       "      <td>1956.0</td>\n",
       "      <td>0.1238</td>\n",
       "      <td>0.1866</td>\n",
       "      <td>0.2416</td>\n",
       "      <td>0.1860</td>\n",
       "      <td>0.2750</td>\n",
       "      <td>0.08902</td>\n",
       "      <td>2</td>\n",
       "    </tr>\n",
       "    <tr>\n",
       "      <th>2</th>\n",
       "      <td>19.69</td>\n",
       "      <td>21.25</td>\n",
       "      <td>130.00</td>\n",
       "      <td>1203.0</td>\n",
       "      <td>0.10960</td>\n",
       "      <td>0.15990</td>\n",
       "      <td>0.1974</td>\n",
       "      <td>0.12790</td>\n",
       "      <td>0.2069</td>\n",
       "      <td>0.05999</td>\n",
       "      <td>...</td>\n",
       "      <td>25.53</td>\n",
       "      <td>152.50</td>\n",
       "      <td>1709.0</td>\n",
       "      <td>0.1444</td>\n",
       "      <td>0.4245</td>\n",
       "      <td>0.4504</td>\n",
       "      <td>0.2430</td>\n",
       "      <td>0.3613</td>\n",
       "      <td>0.08758</td>\n",
       "      <td>2</td>\n",
       "    </tr>\n",
       "    <tr>\n",
       "      <th>3</th>\n",
       "      <td>11.42</td>\n",
       "      <td>20.38</td>\n",
       "      <td>77.58</td>\n",
       "      <td>386.1</td>\n",
       "      <td>0.14250</td>\n",
       "      <td>0.28390</td>\n",
       "      <td>0.2414</td>\n",
       "      <td>0.10520</td>\n",
       "      <td>0.2597</td>\n",
       "      <td>0.09744</td>\n",
       "      <td>...</td>\n",
       "      <td>26.50</td>\n",
       "      <td>98.87</td>\n",
       "      <td>567.7</td>\n",
       "      <td>0.2098</td>\n",
       "      <td>0.8663</td>\n",
       "      <td>0.6869</td>\n",
       "      <td>0.2575</td>\n",
       "      <td>0.6638</td>\n",
       "      <td>0.17300</td>\n",
       "      <td>2</td>\n",
       "    </tr>\n",
       "    <tr>\n",
       "      <th>4</th>\n",
       "      <td>20.29</td>\n",
       "      <td>14.34</td>\n",
       "      <td>135.10</td>\n",
       "      <td>1297.0</td>\n",
       "      <td>0.10030</td>\n",
       "      <td>0.13280</td>\n",
       "      <td>0.1980</td>\n",
       "      <td>0.10430</td>\n",
       "      <td>0.1809</td>\n",
       "      <td>0.05883</td>\n",
       "      <td>...</td>\n",
       "      <td>16.67</td>\n",
       "      <td>152.20</td>\n",
       "      <td>1575.0</td>\n",
       "      <td>0.1374</td>\n",
       "      <td>0.2050</td>\n",
       "      <td>0.4000</td>\n",
       "      <td>0.1625</td>\n",
       "      <td>0.2364</td>\n",
       "      <td>0.07678</td>\n",
       "      <td>2</td>\n",
       "    </tr>\n",
       "  </tbody>\n",
       "</table>\n",
       "<p>5 rows × 31 columns</p>\n",
       "</div>"
      ],
      "text/plain": [
       "      V1     V2      V3      V4       V5       V6      V7       V8      V9  \\\n",
       "0  17.99  10.38  122.80  1001.0  0.11840  0.27760  0.3001  0.14710  0.2419   \n",
       "1  20.57  17.77  132.90  1326.0  0.08474  0.07864  0.0869  0.07017  0.1812   \n",
       "2  19.69  21.25  130.00  1203.0  0.10960  0.15990  0.1974  0.12790  0.2069   \n",
       "3  11.42  20.38   77.58   386.1  0.14250  0.28390  0.2414  0.10520  0.2597   \n",
       "4  20.29  14.34  135.10  1297.0  0.10030  0.13280  0.1980  0.10430  0.1809   \n",
       "\n",
       "       V10  ...    V22     V23     V24     V25     V26     V27     V28  \\\n",
       "0  0.07871  ...  17.33  184.60  2019.0  0.1622  0.6656  0.7119  0.2654   \n",
       "1  0.05667  ...  23.41  158.80  1956.0  0.1238  0.1866  0.2416  0.1860   \n",
       "2  0.05999  ...  25.53  152.50  1709.0  0.1444  0.4245  0.4504  0.2430   \n",
       "3  0.09744  ...  26.50   98.87   567.7  0.2098  0.8663  0.6869  0.2575   \n",
       "4  0.05883  ...  16.67  152.20  1575.0  0.1374  0.2050  0.4000  0.1625   \n",
       "\n",
       "      V29      V30  Class  \n",
       "0  0.4601  0.11890      2  \n",
       "1  0.2750  0.08902      2  \n",
       "2  0.3613  0.08758      2  \n",
       "3  0.6638  0.17300      2  \n",
       "4  0.2364  0.07678      2  \n",
       "\n",
       "[5 rows x 31 columns]"
      ]
     },
     "execution_count": 5,
     "metadata": {},
     "output_type": "execute_result"
    }
   ],
   "source": [
    "cancer_data = pd.read_csv(\"phpAmSP4g.csv\")\n",
    "cancer_categories = np.unique(cancer_data[\"Class\"])\n",
    "cancer_data.head()"
   ]
  },
  {
   "cell_type": "code",
   "execution_count": 6,
   "id": "197b954c",
   "metadata": {},
   "outputs": [
    {
     "data": {
      "text/plain": [
       "1    62.7\n",
       "2    37.3\n",
       "Name: Class, dtype: float64"
      ]
     },
     "execution_count": 6,
     "metadata": {},
     "output_type": "execute_result"
    }
   ],
   "source": [
    "np.round(100*cancer_data[\"Class\"].value_counts()/np.shape(cancer_data)[0], 1)"
   ]
  },
  {
   "cell_type": "markdown",
   "id": "52d28538",
   "metadata": {},
   "source": [
    "Les catégories sont deséquilibrées pour les deux jeux de données."
   ]
  },
  {
   "cell_type": "markdown",
   "id": "2341bfef",
   "metadata": {},
   "source": [
    "# Random Subspace Method"
   ]
  },
  {
   "cell_type": "markdown",
   "id": "f2822186",
   "metadata": {},
   "source": [
    "## Fonctions"
   ]
  },
  {
   "cell_type": "code",
   "execution_count": 7,
   "id": "044e272c",
   "metadata": {},
   "outputs": [],
   "source": [
    "class RSM:\n",
    "\n",
    "    def __init__(self, dimension_subspaces, nb_subspaces=100, model = \"decision_tree\"):\n",
    "        self.nb_subspaces = nb_subspaces\n",
    "        self.dimension_subspaces = dimension_subspaces\n",
    "        self.model = model\n",
    "        self.pred = []\n",
    "        self.trees = []\n",
    "        self.subspaces = []\n",
    "        \n",
    "    def fit(self, train_data, y, max_depth=1):\n",
    "        nrow = np.shape(train_data)[0]\n",
    "        predictions = []\n",
    "        variables_names = train_data.columns\n",
    "        for i in range(self.nb_subspaces):\n",
    "            if self.model == \"decision_tree\" :\n",
    "                new_model = DecisionTreeClassifier(max_depth=max_depth)\n",
    "            \n",
    "            new_subspace = random.choices(variables_names, k=self.dimension_subspaces)\n",
    "            self.subspaces.append(new_subspace)\n",
    "            self.trees.append(new_model.fit(X = train_data[new_subspace], y=y))\n",
    "\n",
    "    def predict(self, new_data, categories, seuil=0.5):\n",
    "        self.pred = []\n",
    "        count = 0\n",
    "        for t in self.trees:\n",
    "            self.pred.append(t.predict(new_data[self.subspaces[count]]))\n",
    "            count+=1\n",
    "        self.pred = pd.DataFrame(self.pred)\n",
    "        return votes(self.pred, categories= categories, seuil=seuil)"
   ]
  },
  {
   "cell_type": "markdown",
   "id": "b6787624",
   "metadata": {},
   "source": [
    "## Un exemple de RSM"
   ]
  },
  {
   "cell_type": "code",
   "execution_count": 8,
   "id": "b385a9ad",
   "metadata": {},
   "outputs": [
    {
     "data": {
      "text/plain": [
       "37"
      ]
     },
     "execution_count": 8,
     "metadata": {},
     "output_type": "execute_result"
    }
   ],
   "source": [
    "X_train, X_test, y_train, y_test = train_test_split(X, y, test_size=0.3, random_state=42)\n",
    "p = len(satimage_data.columns)\n",
    "p"
   ]
  },
  {
   "cell_type": "code",
   "execution_count": 9,
   "id": "4d5eec4f",
   "metadata": {},
   "outputs": [
    {
     "name": "stdout",
     "output_type": "stream",
     "text": [
      "[[1.0], [1.0], [1.0], [1.0], [1.0], [1.0], [1.0], [1.0], [1.0]]\n",
      "Accuracy on train data = 0.429\n",
      "Accuracy on test data = 0.417\n"
     ]
    }
   ],
   "source": [
    "RSM_model = RSM(dimension_subspaces=int(p/2), nb_subspaces=100, model = \"decision_tree\")\n",
    "RSM_model.fit(train_data = X_train, y = y_train, max_depth=1)\n",
    "pred = RSM_model.predict(new_data= X_train, categories = satimage_categories, seuil = 0.51)\n",
    "print(pred[1:10])\n",
    "\n",
    "y_chap = np.array(pred)\n",
    "acc_train = accuracy_score(y_train, y_chap)\n",
    "\n",
    "pred = RSM_model.predict(new_data= X_test, categories = satimage_categories, seuil = 0.51)\n",
    "y_chap = np.array(pred)\n",
    "acc_test = accuracy_score(y_test, y_chap)\n",
    "\n",
    "print(\"Accuracy on train data = %0.3f\"%acc_train)\n",
    "print(\"Accuracy on test data = %0.3f\"%acc_test)"
   ]
  },
  {
   "cell_type": "markdown",
   "id": "bb259ee9",
   "metadata": {},
   "source": [
    "Cette méthode semble bien fonctionner sur les données *cancer* et moins bien pour les données *satimage*."
   ]
  },
  {
   "cell_type": "markdown",
   "id": "0ffd7d09",
   "metadata": {},
   "source": [
    "## Étude du paramètre dimension_subspaces"
   ]
  },
  {
   "cell_type": "markdown",
   "id": "4cc9e61e",
   "metadata": {},
   "source": [
    "## Satimage data"
   ]
  },
  {
   "cell_type": "code",
   "execution_count": 10,
   "id": "a44bee95",
   "metadata": {
    "scrolled": false
   },
   "outputs": [],
   "source": [
    "p = len(satimage_data.columns)\n",
    "dims_subspaces = range(2,p,2)\n",
    "acc = []\n",
    "kf = StratifiedKFold(n_splits=5)\n",
    "for d in dims_subspaces:\n",
    "    acc_temp=[]\n",
    "    for train_index, test_index in kf.split(X, y):\n",
    "        RMS_model = RSM(dimension_subspaces=d, nb_subspaces=100, model = \"decision_tree\")\n",
    "        train_temp = X.loc[train_index,]\n",
    "        test_temp = X.loc[test_index,]\n",
    "        y_train_temp = y[train_index]\n",
    "        y_test_temp = y[test_index]\n",
    "        \n",
    "        RMS_model.fit(train_data = train_temp, y = y_train_temp, max_depth=1)\n",
    "        pred = RMS_model.predict(new_data= test_temp, categories = satimage_categories, seuil = 0.51)\n",
    "        y_chap = np.asarray(pred)\n",
    "        acc_temp.append(accuracy_score(y_chap, y_test_temp))\n",
    "    acc.append(acc_temp)"
   ]
  },
  {
   "cell_type": "code",
   "execution_count": 11,
   "id": "bac2beef",
   "metadata": {},
   "outputs": [
    {
     "name": "stdout",
     "output_type": "stream",
     "text": [
      "Meilleur dimension =   2 Accuracy moyenne = 0.563\n"
     ]
    },
    {
     "data": {
      "text/plain": [
       "<matplotlib.collections.PolyCollection at 0x265d6914100>"
      ]
     },
     "execution_count": 11,
     "metadata": {},
     "output_type": "execute_result"
    },
    {
     "data": {
      "image/png": "[encoded data removed]",
      "text/plain": [
       "<Figure size 640x480 with 1 Axes>"
      ]
     },
     "metadata": {},
     "output_type": "display_data"
    }
   ],
   "source": [
    "max_i = 0\n",
    "max_acc = 0\n",
    "min_acc = 1\n",
    "mean_acc = []\n",
    "std_acc = []\n",
    "count=0\n",
    "for i in range(2,p,2):\n",
    "    new_acc = np.mean(acc[count])\n",
    "    mean_acc.append(new_acc)\n",
    "    new_std = np.std(acc[count])\n",
    "    std_acc.append(new_std)\n",
    "    if new_acc > max_acc:\n",
    "        max_i = i\n",
    "        max_acc = new_acc\n",
    "    if new_acc < min_acc:\n",
    "        min_acc = new_acc\n",
    "    count+=1\n",
    "print(\"Meilleur dimension = %3.0f Accuracy moyenne = %0.3f\"%(max_i, max_acc))\n",
    "\n",
    "mean_acc = np.double(mean_acc)\n",
    "std_acc = np.double(std_acc)\n",
    "plt.title(\"Accuracy sur le valid set\")\n",
    "plt.xlabel(\"k = nombre d'arbres\")\n",
    "plt.ylabel(\"Accuracy\")\n",
    "plt.ylim(0.0, 1.0)\n",
    "lw = 2\n",
    "param_range = range(2,p,2)\n",
    "plt.ylim(min_acc - np.max(std_acc), max_acc + np.max(std_acc))\n",
    "plt.plot(\n",
    "    param_range, mean_acc, label=\"Training score\", color=\"darkorange\", lw=lw\n",
    ")\n",
    "plt.fill_between(\n",
    "    param_range,\n",
    "    mean_acc - std_acc,\n",
    "    mean_acc + std_acc,\n",
    "    alpha=0.2,\n",
    "    color=\"darkorange\",\n",
    "    lw=lw,\n",
    ")"
   ]
  },
  {
   "cell_type": "markdown",
   "id": "eb268261",
   "metadata": {},
   "source": [
    "La meilleure valeur de l'hyperparamètre *nb_dimensions* semble être 2, ce qui est assez loin de la valeur conseillée qui est $\\frac{p}{2}=18$. Cette valeur semble significativement meilleure que les autres."
   ]
  },
  {
   "cell_type": "markdown",
   "id": "96cdfd4a",
   "metadata": {},
   "source": [
    "## Cancer data"
   ]
  },
  {
   "cell_type": "code",
   "execution_count": 12,
   "id": "47acaee8",
   "metadata": {},
   "outputs": [],
   "source": [
    "p = len(cancer_data.columns)\n",
    "dims_subspaces = range(2,p,2)\n",
    "acc = []\n",
    "X = cancer_data.drop(labels=[\"Class\"], axis=1)\n",
    "y = np.array(cancer_data[\"Class\"])\n",
    "kf = StratifiedKFold(n_splits=5)\n",
    "for d in dims_subspaces:\n",
    "    acc_temp=[]\n",
    "    for train_index, test_index in kf.split(X, y):\n",
    "        RMS_model = RSM(dimension_subspaces=d, nb_subspaces=100, model = \"decision_tree\")\n",
    "        train_temp = X.loc[train_index,]\n",
    "        test_temp = X.loc[test_index,]\n",
    "        y_train_temp = y[train_index]\n",
    "        y_test_temp = y[test_index]\n",
    "        \n",
    "        RMS_model.fit(train_data = train_temp, y = y_train_temp, max_depth=1)\n",
    "        #Seuil = 0.51 pour être sur d'avoir une seule prediction en sortie\n",
    "        pred = RMS_model.predict(new_data= test_temp, categories = satimage_categories, seuil = 0.51)\n",
    "        \n",
    "        acc_temp.append(accuracy_score(pred, y_test_temp))\n",
    "    acc.append(acc_temp)"
   ]
  },
  {
   "cell_type": "code",
   "execution_count": 13,
   "id": "a2949fa2",
   "metadata": {},
   "outputs": [
    {
     "name": "stdout",
     "output_type": "stream",
     "text": [
      "\n",
      "\n",
      "Meilleur dimension =   2 Accuracy moyenne = 0.932\n"
     ]
    },
    {
     "data": {
      "text/plain": [
       "<matplotlib.collections.PolyCollection at 0x265d8652c70>"
      ]
     },
     "execution_count": 13,
     "metadata": {},
     "output_type": "execute_result"
    },
    {
     "data": {
      "image/png": "[encoded data removed]",
      "text/plain": [
       "<Figure size 640x480 with 1 Axes>"
      ]
     },
     "metadata": {},
     "output_type": "display_data"
    }
   ],
   "source": [
    "max_i = 0\n",
    "max_acc = 0\n",
    "min_acc = 1\n",
    "mean_acc = []\n",
    "std_acc = []\n",
    "count=0\n",
    "for i in range(2,p,2):\n",
    "    new_acc = np.mean(acc[count])\n",
    "    mean_acc.append(new_acc)\n",
    "    new_std = np.std(acc[count])\n",
    "    std_acc.append(new_std)\n",
    "    if new_acc > max_acc:\n",
    "        max_i = i\n",
    "        max_acc = new_acc\n",
    "    if new_acc < min_acc:\n",
    "        min_acc = new_acc\n",
    "    count+=1\n",
    "print(\"\\n\\nMeilleur dimension = %3.0f Accuracy moyenne = %0.3f\"%(max_i, max_acc))\n",
    "\n",
    "mean_acc = np.double(mean_acc)\n",
    "std_acc = np.double(std_acc)\n",
    "plt.title(\"Accuracy sur le valid set\")\n",
    "plt.xlabel(\"k = nombre d'arbres\")\n",
    "plt.ylabel(\"Accuracy\")\n",
    "plt.ylim(min_acc - np.max(std_acc), max_acc + np.max(std_acc))\n",
    "lw = 2\n",
    "param_range = range(2,p,2)\n",
    "plt.plot(\n",
    "    param_range, mean_acc, label=\"Training score\", color=\"darkorange\", lw=lw\n",
    ")\n",
    "plt.fill_between(\n",
    "    param_range,\n",
    "    mean_acc - std_acc,\n",
    "    mean_acc + std_acc,\n",
    "    alpha=0.2,\n",
    "    color=\"darkorange\",\n",
    "    lw=lw,\n",
    ")"
   ]
  },
  {
   "cell_type": "markdown",
   "id": "c520d45c",
   "metadata": {},
   "source": [
    "La meilleure valeur de *nb_dimensions* semble être 2 ce qui est encore une fois assez loin de $\\frac{p}{2}=15$. Cependant la valeur de ce paramètre n'a pas une importance aussi significative que dans le cas précédent car les variations de l'accuracy sont moins prononcées."
   ]
  }
 ],
 "metadata": {
  "kernelspec": {
   "display_name": "Python 3 (ipykernel)",
   "language": "python",
   "name": "python3"
  },
  "language_info": {
   "codemirror_mode": {
    "name": "ipython",
    "version": 3
   },
   "file_extension": ".py",
   "mimetype": "text/x-python",
   "name": "python",
   "nbconvert_exporter": "python",
   "pygments_lexer": "ipython3",
   "version": "3.9.13"
  }
 },
 "nbformat": 4,
 "nbformat_minor": 5
}
